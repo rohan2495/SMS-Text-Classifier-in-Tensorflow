{
  "nbformat": 4,
  "nbformat_minor": 0,
  "metadata": {
    "colab": {
      "name": "SMS Text Classification - Tensorflow.ipynb",
      "provenance": [],
      "collapsed_sections": []
    },
    "kernelspec": {
      "display_name": "Python 3",
      "name": "python3"
    },
    "accelerator": "GPU"
  },
  "cells": [
    {
      "cell_type": "markdown",
      "metadata": {
        "colab_type": "text",
        "id": "Eg62Pmz3o83v"
      },
      "source": [
        "## SMS Text Classification using Neural Networks\n",
        "---\n",
        "\n",
        "Here, we create a machine learning model that will classify SMS messages as either \"ham\" or \"spam\". A \"ham\" message is a normal message sent by a friend. A \"spam\" message is an advertisement or a message sent by a company.\n",
        "\n",
        "We shall create a function called `predict_message` that takes a message string as an argument and returns a list. The first element in the list will be a number between zero and one that indicates the likeliness of \"ham\" (0) or \"spam\" (1). The second element in the list will be the word \"ham\" or \"spam\", depending on which is most likely.\n",
        "\n",
        "For this project, we will use the [SMS Spam Collection dataset](http://www.dt.fee.unicamp.br/~tiago/smsspamcollection/). The dataset has already been grouped into train data and test data.\n",
        "\n",
        "The first two cells import the libraries and data. The final cell tests the model and function.\n"
      ]
    },
    {
      "cell_type": "code",
      "metadata": {
        "colab_type": "code",
        "id": "8RZOuS9LWQvv",
        "colab": {
          "base_uri": "https://localhost:8080/",
          "height": 1000
        },
        "outputId": "60de37ca-eb06-43f8-c9cc-610b1281e178"
      },
      "source": [
        "# import libraries\n",
        "try:\n",
        "  # %tensorflow_version only exists in Colab.\n",
        "  !pip install tf-nightly\n",
        "except Exception:\n",
        "  pass\n",
        "import tensorflow as tf\n",
        "import pandas as pd\n",
        "from tensorflow import keras\n",
        "!pip install tensorflow-datasets\n",
        "import tensorflow_datasets as tfds\n",
        "import numpy as np\n",
        "import matplotlib.pyplot as plt\n",
        "\n",
        "print(tf.__version__)"
      ],
      "execution_count": 1,
      "outputs": [
        {
          "output_type": "stream",
          "text": [
            "Collecting tf-nightly\n",
            "\u001b[?25l  Downloading https://files.pythonhosted.org/packages/36/d2/e714f8b5d6b17fe4cc3954c61dd4eaa7a18b4c135b350882b7584053d36e/tf_nightly-2.4.0.dev20200918-cp36-cp36m-manylinux2010_x86_64.whl (390.3MB)\n",
            "\u001b[K     |████████████████████████████████| 390.3MB 46kB/s \n",
            "\u001b[?25hRequirement already satisfied: wheel>=0.26 in /usr/local/lib/python3.6/dist-packages (from tf-nightly) (0.35.1)\n",
            "Requirement already satisfied: opt-einsum>=2.3.2 in /usr/local/lib/python3.6/dist-packages (from tf-nightly) (3.3.0)\n",
            "Requirement already satisfied: google-pasta>=0.1.8 in /usr/local/lib/python3.6/dist-packages (from tf-nightly) (0.2.0)\n",
            "Collecting tf-estimator-nightly\n",
            "\u001b[?25l  Downloading https://files.pythonhosted.org/packages/d2/54/e6255de0770a055ed3b9bfc90b254deb6cece5621fcffa0d0300199927c5/tf_estimator_nightly-2.4.0.dev2020091801-py2.py3-none-any.whl (460kB)\n",
            "\u001b[K     |████████████████████████████████| 460kB 56.7MB/s \n",
            "\u001b[?25hRequirement already satisfied: typing-extensions>=3.7.4.2 in /usr/local/lib/python3.6/dist-packages (from tf-nightly) (3.7.4.3)\n",
            "Requirement already satisfied: termcolor>=1.1.0 in /usr/local/lib/python3.6/dist-packages (from tf-nightly) (1.1.0)\n",
            "Requirement already satisfied: protobuf>=3.9.2 in /usr/local/lib/python3.6/dist-packages (from tf-nightly) (3.12.4)\n",
            "Collecting tb-nightly<3.0.0a0,>=2.4.0a0\n",
            "\u001b[?25l  Downloading https://files.pythonhosted.org/packages/2a/73/6649c38b7e7d609de0f183f58a6b7a946d0bbdeffa245d55ec22e53829c1/tb_nightly-2.4.0a20200918-py3-none-any.whl (10.2MB)\n",
            "\u001b[K     |████████████████████████████████| 10.2MB 53.9MB/s \n",
            "\u001b[?25hRequirement already satisfied: six>=1.12.0 in /usr/local/lib/python3.6/dist-packages (from tf-nightly) (1.15.0)\n",
            "Requirement already satisfied: keras-preprocessing<1.2,>=1.1.1 in /usr/local/lib/python3.6/dist-packages (from tf-nightly) (1.1.2)\n",
            "Requirement already satisfied: h5py<2.11.0,>=2.10.0 in /usr/local/lib/python3.6/dist-packages (from tf-nightly) (2.10.0)\n",
            "Requirement already satisfied: wrapt>=1.11.1 in /usr/local/lib/python3.6/dist-packages (from tf-nightly) (1.12.1)\n",
            "Requirement already satisfied: grpcio>=1.8.6 in /usr/local/lib/python3.6/dist-packages (from tf-nightly) (1.32.0)\n",
            "Requirement already satisfied: astunparse==1.6.3 in /usr/local/lib/python3.6/dist-packages (from tf-nightly) (1.6.3)\n",
            "Collecting flatbuffers>=1.12\n",
            "  Downloading https://files.pythonhosted.org/packages/eb/26/712e578c5f14e26ae3314c39a1bdc4eb2ec2f4ddc89b708cf8e0a0d20423/flatbuffers-1.12-py2.py3-none-any.whl\n",
            "Requirement already satisfied: gast==0.3.3 in /usr/local/lib/python3.6/dist-packages (from tf-nightly) (0.3.3)\n",
            "Requirement already satisfied: numpy<1.19.0,>=1.16.0 in /usr/local/lib/python3.6/dist-packages (from tf-nightly) (1.18.5)\n",
            "Requirement already satisfied: absl-py>=0.7.0 in /usr/local/lib/python3.6/dist-packages (from tf-nightly) (0.10.0)\n",
            "Requirement already satisfied: setuptools in /usr/local/lib/python3.6/dist-packages (from protobuf>=3.9.2->tf-nightly) (50.3.0)\n",
            "Requirement already satisfied: google-auth-oauthlib<0.5,>=0.4.1 in /usr/local/lib/python3.6/dist-packages (from tb-nightly<3.0.0a0,>=2.4.0a0->tf-nightly) (0.4.1)\n",
            "Requirement already satisfied: tensorboard-plugin-wit>=1.6.0 in /usr/local/lib/python3.6/dist-packages (from tb-nightly<3.0.0a0,>=2.4.0a0->tf-nightly) (1.7.0)\n",
            "Requirement already satisfied: requests<3,>=2.21.0 in /usr/local/lib/python3.6/dist-packages (from tb-nightly<3.0.0a0,>=2.4.0a0->tf-nightly) (2.23.0)\n",
            "Requirement already satisfied: google-auth<2,>=1.6.3 in /usr/local/lib/python3.6/dist-packages (from tb-nightly<3.0.0a0,>=2.4.0a0->tf-nightly) (1.17.2)\n",
            "Requirement already satisfied: werkzeug>=0.11.15 in /usr/local/lib/python3.6/dist-packages (from tb-nightly<3.0.0a0,>=2.4.0a0->tf-nightly) (1.0.1)\n",
            "Requirement already satisfied: markdown>=2.6.8 in /usr/local/lib/python3.6/dist-packages (from tb-nightly<3.0.0a0,>=2.4.0a0->tf-nightly) (3.2.2)\n",
            "Requirement already satisfied: requests-oauthlib>=0.7.0 in /usr/local/lib/python3.6/dist-packages (from google-auth-oauthlib<0.5,>=0.4.1->tb-nightly<3.0.0a0,>=2.4.0a0->tf-nightly) (1.3.0)\n",
            "Requirement already satisfied: chardet<4,>=3.0.2 in /usr/local/lib/python3.6/dist-packages (from requests<3,>=2.21.0->tb-nightly<3.0.0a0,>=2.4.0a0->tf-nightly) (3.0.4)\n",
            "Requirement already satisfied: urllib3!=1.25.0,!=1.25.1,<1.26,>=1.21.1 in /usr/local/lib/python3.6/dist-packages (from requests<3,>=2.21.0->tb-nightly<3.0.0a0,>=2.4.0a0->tf-nightly) (1.24.3)\n",
            "Requirement already satisfied: idna<3,>=2.5 in /usr/local/lib/python3.6/dist-packages (from requests<3,>=2.21.0->tb-nightly<3.0.0a0,>=2.4.0a0->tf-nightly) (2.10)\n",
            "Requirement already satisfied: certifi>=2017.4.17 in /usr/local/lib/python3.6/dist-packages (from requests<3,>=2.21.0->tb-nightly<3.0.0a0,>=2.4.0a0->tf-nightly) (2020.6.20)\n",
            "Requirement already satisfied: cachetools<5.0,>=2.0.0 in /usr/local/lib/python3.6/dist-packages (from google-auth<2,>=1.6.3->tb-nightly<3.0.0a0,>=2.4.0a0->tf-nightly) (4.1.1)\n",
            "Requirement already satisfied: pyasn1-modules>=0.2.1 in /usr/local/lib/python3.6/dist-packages (from google-auth<2,>=1.6.3->tb-nightly<3.0.0a0,>=2.4.0a0->tf-nightly) (0.2.8)\n",
            "Requirement already satisfied: rsa<5,>=3.1.4; python_version >= \"3\" in /usr/local/lib/python3.6/dist-packages (from google-auth<2,>=1.6.3->tb-nightly<3.0.0a0,>=2.4.0a0->tf-nightly) (4.6)\n",
            "Requirement already satisfied: importlib-metadata; python_version < \"3.8\" in /usr/local/lib/python3.6/dist-packages (from markdown>=2.6.8->tb-nightly<3.0.0a0,>=2.4.0a0->tf-nightly) (1.7.0)\n",
            "Requirement already satisfied: oauthlib>=3.0.0 in /usr/local/lib/python3.6/dist-packages (from requests-oauthlib>=0.7.0->google-auth-oauthlib<0.5,>=0.4.1->tb-nightly<3.0.0a0,>=2.4.0a0->tf-nightly) (3.1.0)\n",
            "Requirement already satisfied: pyasn1<0.5.0,>=0.4.6 in /usr/local/lib/python3.6/dist-packages (from pyasn1-modules>=0.2.1->google-auth<2,>=1.6.3->tb-nightly<3.0.0a0,>=2.4.0a0->tf-nightly) (0.4.8)\n",
            "Requirement already satisfied: zipp>=0.5 in /usr/local/lib/python3.6/dist-packages (from importlib-metadata; python_version < \"3.8\"->markdown>=2.6.8->tb-nightly<3.0.0a0,>=2.4.0a0->tf-nightly) (3.1.0)\n",
            "Installing collected packages: tf-estimator-nightly, tb-nightly, flatbuffers, tf-nightly\n",
            "Successfully installed flatbuffers-1.12 tb-nightly-2.4.0a20200918 tf-estimator-nightly-2.4.0.dev2020091801 tf-nightly-2.4.0.dev20200918\n",
            "Requirement already satisfied: tensorflow-datasets in /usr/local/lib/python3.6/dist-packages (2.1.0)\n",
            "Requirement already satisfied: dill in /usr/local/lib/python3.6/dist-packages (from tensorflow-datasets) (0.3.2)\n",
            "Requirement already satisfied: future in /usr/local/lib/python3.6/dist-packages (from tensorflow-datasets) (0.16.0)\n",
            "Requirement already satisfied: termcolor in /usr/local/lib/python3.6/dist-packages (from tensorflow-datasets) (1.1.0)\n",
            "Requirement already satisfied: tqdm in /usr/local/lib/python3.6/dist-packages (from tensorflow-datasets) (4.41.1)\n",
            "Requirement already satisfied: absl-py in /usr/local/lib/python3.6/dist-packages (from tensorflow-datasets) (0.10.0)\n",
            "Requirement already satisfied: requests>=2.19.0 in /usr/local/lib/python3.6/dist-packages (from tensorflow-datasets) (2.23.0)\n",
            "Requirement already satisfied: wrapt in /usr/local/lib/python3.6/dist-packages (from tensorflow-datasets) (1.12.1)\n",
            "Requirement already satisfied: numpy in /usr/local/lib/python3.6/dist-packages (from tensorflow-datasets) (1.18.5)\n",
            "Requirement already satisfied: six in /usr/local/lib/python3.6/dist-packages (from tensorflow-datasets) (1.15.0)\n",
            "Requirement already satisfied: protobuf>=3.6.1 in /usr/local/lib/python3.6/dist-packages (from tensorflow-datasets) (3.12.4)\n",
            "Requirement already satisfied: attrs>=18.1.0 in /usr/local/lib/python3.6/dist-packages (from tensorflow-datasets) (20.2.0)\n",
            "Requirement already satisfied: tensorflow-metadata in /usr/local/lib/python3.6/dist-packages (from tensorflow-datasets) (0.24.0)\n",
            "Requirement already satisfied: promise in /usr/local/lib/python3.6/dist-packages (from tensorflow-datasets) (2.3)\n",
            "Requirement already satisfied: certifi>=2017.4.17 in /usr/local/lib/python3.6/dist-packages (from requests>=2.19.0->tensorflow-datasets) (2020.6.20)\n",
            "Requirement already satisfied: idna<3,>=2.5 in /usr/local/lib/python3.6/dist-packages (from requests>=2.19.0->tensorflow-datasets) (2.10)\n",
            "Requirement already satisfied: urllib3!=1.25.0,!=1.25.1,<1.26,>=1.21.1 in /usr/local/lib/python3.6/dist-packages (from requests>=2.19.0->tensorflow-datasets) (1.24.3)\n",
            "Requirement already satisfied: chardet<4,>=3.0.2 in /usr/local/lib/python3.6/dist-packages (from requests>=2.19.0->tensorflow-datasets) (3.0.4)\n",
            "Requirement already satisfied: setuptools in /usr/local/lib/python3.6/dist-packages (from protobuf>=3.6.1->tensorflow-datasets) (50.3.0)\n",
            "Requirement already satisfied: googleapis-common-protos<2,>=1.52.0 in /usr/local/lib/python3.6/dist-packages (from tensorflow-metadata->tensorflow-datasets) (1.52.0)\n",
            "2.4.0-dev20200918\n"
          ],
          "name": "stdout"
        }
      ]
    },
    {
      "cell_type": "code",
      "metadata": {
        "id": "lMHwYXHXCar3",
        "colab_type": "code",
        "colab": {}
      },
      "source": [
        "# get data files\n",
        "TRAIN_DATA_URL = \"https://raw.githubusercontent.com/beaucarnes/fcc_python_curriculum/master/sms/train-data.tsv\"\n",
        "TEST_DATA_URL = \"https://raw.githubusercontent.com/beaucarnes/fcc_python_curriculum/master/sms/valid-data.tsv\"\n"
      ],
      "execution_count": 2,
      "outputs": []
    },
    {
      "cell_type": "markdown",
      "metadata": {
        "id": "Uyv4Wr7tXUyh",
        "colab_type": "text"
      },
      "source": [
        "Reading both training and test data from the URLs into respective dataframes.\n"
      ]
    },
    {
      "cell_type": "code",
      "metadata": {
        "id": "ifHClw84xW3E",
        "colab_type": "code",
        "colab": {}
      },
      "source": [
        "train_messages = pd.read_csv(TRAIN_DATA_URL, sep ='\\t',names=[\"label\", \"message\"])\n",
        "\n",
        "test_messages = pd.read_csv(TEST_DATA_URL, sep ='\\t',names=[\"label\", \"message\"])"
      ],
      "execution_count": 3,
      "outputs": []
    },
    {
      "cell_type": "code",
      "metadata": {
        "id": "UGQUTJ-zsOJA",
        "colab_type": "code",
        "colab": {
          "base_uri": "https://localhost:8080/",
          "height": 51
        },
        "outputId": "645e4798-079d-4689-bcf0-e54594098d86"
      },
      "source": [
        "print(\"Size of training set:\", train_messages.shape)\n",
        "print(\"Size of test set:\", test_messages.shape)"
      ],
      "execution_count": 4,
      "outputs": [
        {
          "output_type": "stream",
          "text": [
            "Size of training set: (4179, 2)\n",
            "Size of test set: (1392, 2)\n"
          ],
          "name": "stdout"
        }
      ]
    },
    {
      "cell_type": "code",
      "metadata": {
        "id": "LWHlzaMUvhNb",
        "colab_type": "code",
        "colab": {
          "base_uri": "https://localhost:8080/",
          "height": 204
        },
        "outputId": "3bb37877-6cbf-4d6c-b858-15403c9d681b"
      },
      "source": [
        "train_messages.head()"
      ],
      "execution_count": 5,
      "outputs": [
        {
          "output_type": "execute_result",
          "data": {
            "text/html": [
              "<div>\n",
              "<style scoped>\n",
              "    .dataframe tbody tr th:only-of-type {\n",
              "        vertical-align: middle;\n",
              "    }\n",
              "\n",
              "    .dataframe tbody tr th {\n",
              "        vertical-align: top;\n",
              "    }\n",
              "\n",
              "    .dataframe thead th {\n",
              "        text-align: right;\n",
              "    }\n",
              "</style>\n",
              "<table border=\"1\" class=\"dataframe\">\n",
              "  <thead>\n",
              "    <tr style=\"text-align: right;\">\n",
              "      <th></th>\n",
              "      <th>label</th>\n",
              "      <th>message</th>\n",
              "    </tr>\n",
              "  </thead>\n",
              "  <tbody>\n",
              "    <tr>\n",
              "      <th>0</th>\n",
              "      <td>ham</td>\n",
              "      <td>ahhhh...just woken up!had a bad dream about u ...</td>\n",
              "    </tr>\n",
              "    <tr>\n",
              "      <th>1</th>\n",
              "      <td>ham</td>\n",
              "      <td>you can never do nothing</td>\n",
              "    </tr>\n",
              "    <tr>\n",
              "      <th>2</th>\n",
              "      <td>ham</td>\n",
              "      <td>now u sound like manky scouse boy steve,like! ...</td>\n",
              "    </tr>\n",
              "    <tr>\n",
              "      <th>3</th>\n",
              "      <td>ham</td>\n",
              "      <td>mum say we wan to go then go... then she can s...</td>\n",
              "    </tr>\n",
              "    <tr>\n",
              "      <th>4</th>\n",
              "      <td>ham</td>\n",
              "      <td>never y lei... i v lazy... got wat? dat day ü ...</td>\n",
              "    </tr>\n",
              "  </tbody>\n",
              "</table>\n",
              "</div>"
            ],
            "text/plain": [
              "  label                                            message\n",
              "0   ham  ahhhh...just woken up!had a bad dream about u ...\n",
              "1   ham                           you can never do nothing\n",
              "2   ham  now u sound like manky scouse boy steve,like! ...\n",
              "3   ham  mum say we wan to go then go... then she can s...\n",
              "4   ham  never y lei... i v lazy... got wat? dat day ü ..."
            ]
          },
          "metadata": {
            "tags": []
          },
          "execution_count": 5
        }
      ]
    },
    {
      "cell_type": "code",
      "metadata": {
        "id": "g_h508FEClxO",
        "colab_type": "code",
        "colab": {
          "base_uri": "https://localhost:8080/",
          "height": 173
        },
        "outputId": "248e81ee-2cae-481b-a15a-462f67538c51"
      },
      "source": [
        "train_messages.describe()"
      ],
      "execution_count": 6,
      "outputs": [
        {
          "output_type": "execute_result",
          "data": {
            "text/html": [
              "<div>\n",
              "<style scoped>\n",
              "    .dataframe tbody tr th:only-of-type {\n",
              "        vertical-align: middle;\n",
              "    }\n",
              "\n",
              "    .dataframe tbody tr th {\n",
              "        vertical-align: top;\n",
              "    }\n",
              "\n",
              "    .dataframe thead th {\n",
              "        text-align: right;\n",
              "    }\n",
              "</style>\n",
              "<table border=\"1\" class=\"dataframe\">\n",
              "  <thead>\n",
              "    <tr style=\"text-align: right;\">\n",
              "      <th></th>\n",
              "      <th>label</th>\n",
              "      <th>message</th>\n",
              "    </tr>\n",
              "  </thead>\n",
              "  <tbody>\n",
              "    <tr>\n",
              "      <th>count</th>\n",
              "      <td>4179</td>\n",
              "      <td>4179</td>\n",
              "    </tr>\n",
              "    <tr>\n",
              "      <th>unique</th>\n",
              "      <td>2</td>\n",
              "      <td>3935</td>\n",
              "    </tr>\n",
              "    <tr>\n",
              "      <th>top</th>\n",
              "      <td>ham</td>\n",
              "      <td>sorry, i'll call later</td>\n",
              "    </tr>\n",
              "    <tr>\n",
              "      <th>freq</th>\n",
              "      <td>3619</td>\n",
              "      <td>22</td>\n",
              "    </tr>\n",
              "  </tbody>\n",
              "</table>\n",
              "</div>"
            ],
            "text/plain": [
              "       label                 message\n",
              "count   4179                    4179\n",
              "unique     2                    3935\n",
              "top      ham  sorry, i'll call later\n",
              "freq    3619                      22"
            ]
          },
          "metadata": {
            "tags": []
          },
          "execution_count": 6
        }
      ]
    },
    {
      "cell_type": "markdown",
      "metadata": {
        "id": "iO5Akia-XyMP",
        "colab_type": "text"
      },
      "source": [
        "Mapping ham label as 0 and spam as 1"
      ]
    },
    {
      "cell_type": "code",
      "metadata": {
        "colab_type": "code",
        "id": "zOMKywn4zReN",
        "colab": {}
      },
      "source": [
        "train_messages['msg_type']= train_messages['label'].map({'ham': 0, 'spam': 1})\n",
        "train_msg = train_messages['message']\n",
        "train_labels = train_messages['msg_type'].values\n",
        "\n",
        "test_messages['msg_type']= test_messages['label'].map({'ham': 0, 'spam': 1})\n",
        "test_msg = test_messages['message']\n",
        "test_labels = test_messages['msg_type'].values\n",
        "\n"
      ],
      "execution_count": 7,
      "outputs": []
    },
    {
      "cell_type": "markdown",
      "metadata": {
        "id": "OyYhODuMaNlE",
        "colab_type": "text"
      },
      "source": [
        "##Text Preprocessing\n",
        "---"
      ]
    },
    {
      "cell_type": "markdown",
      "metadata": {
        "id": "kLHLA7lhZgyb",
        "colab_type": "text"
      },
      "source": [
        "### Tokenization"
      ]
    },
    {
      "cell_type": "markdown",
      "metadata": {
        "id": "BbJmEf56YKpU",
        "colab_type": "text"
      },
      "source": [
        "Using the Tokenizer API to split sentences into words and encode them into integers. This is done to convert text into numerical data."
      ]
    },
    {
      "cell_type": "code",
      "metadata": {
        "id": "2E8Wy6_LUOYV",
        "colab_type": "code",
        "colab": {}
      },
      "source": [
        "# Defining pre-processing hyperparameters\n",
        "max_len = 50\n",
        "trunc_type = \"post\" \n",
        "padding_type = \"post\" \n",
        "oov_tok = \"<OOV>\"  #out of vocabulary token will be added to word index in the corpus which is used to build the model. This is used to replace out of vocabulary words during text_to_sequence calls \n",
        "vocab_size = 700"
      ],
      "execution_count": 8,
      "outputs": []
    },
    {
      "cell_type": "code",
      "metadata": {
        "id": "9tfg77irYolU",
        "colab_type": "code",
        "colab": {}
      },
      "source": [
        "tokenizer = tf.keras.preprocessing.text.Tokenizer(num_words = vocab_size, char_level=False, oov_token = oov_tok)\n",
        "tokenizer.fit_on_texts(train_msg)"
      ],
      "execution_count": 9,
      "outputs": []
    },
    {
      "cell_type": "code",
      "metadata": {
        "id": "h_aOWbHLY0_I",
        "colab_type": "code",
        "colab": {}
      },
      "source": [
        "# Get the word index \n",
        "word_index = tokenizer.word_index\n",
        "word_index"
      ],
      "execution_count": null,
      "outputs": []
    },
    {
      "cell_type": "code",
      "metadata": {
        "id": "XOBm0G6qZwiu",
        "colab_type": "code",
        "colab": {
          "base_uri": "https://localhost:8080/",
          "height": 34
        },
        "outputId": "70cae7b7-63f8-42d4-ef7d-96cfae548b5f"
      },
      "source": [
        "# check how many unique words are in the training data\n",
        "tot_words = len(word_index)\n",
        "print('No. of unique tokens in training data: %s ' % tot_words)\n"
      ],
      "execution_count": 12,
      "outputs": [
        {
          "output_type": "stream",
          "text": [
            "No. of unique tokens in training data: 7693 \n"
          ],
          "name": "stdout"
        }
      ]
    },
    {
      "cell_type": "markdown",
      "metadata": {
        "id": "p0cXuNyyaaZo",
        "colab_type": "text"
      },
      "source": [
        "###Sequencing and Padding\n",
        "---"
      ]
    },
    {
      "cell_type": "markdown",
      "metadata": {
        "id": "Y5a8jY_TZoAP",
        "colab_type": "text"
      },
      "source": [
        "After tokenization, we represent each sentence by sequences of numbers using texts_to_sequences() from tokenizer object. Subsequently, we use pad_sequences() so that each sequence will have same length."
      ]
    },
    {
      "cell_type": "code",
      "metadata": {
        "id": "_1Q6NEUVaJAK",
        "colab_type": "code",
        "colab": {}
      },
      "source": [
        "training_seq = tokenizer.texts_to_sequences(train_msg)\n",
        "training_padded = keras.preprocessing.sequence.pad_sequences(training_seq, maxlen=max_len, \n",
        "                                                             padding=padding_type, truncating=trunc_type)\n",
        "\n",
        "test_seq = tokenizer.texts_to_sequences(test_msg)\n",
        "test_padded = keras.preprocessing.sequence.pad_sequences(test_seq, maxlen=max_len, \n",
        "                                                             padding=padding_type, truncating=trunc_type)"
      ],
      "execution_count": 13,
      "outputs": []
    },
    {
      "cell_type": "code",
      "metadata": {
        "id": "52C2gjxQeD1a",
        "colab_type": "code",
        "colab": {
          "base_uri": "https://localhost:8080/",
          "height": 51
        },
        "outputId": "ec33bf22-43ab-4653-bbd3-fe89fc689b5f"
      },
      "source": [
        "print('Shape of training tensor: ', training_padded.shape)\n",
        "print('Shape of testing tensor: ', test_padded.shape)"
      ],
      "execution_count": 14,
      "outputs": [
        {
          "output_type": "stream",
          "text": [
            "Shape of training tensor:  (4179, 50)\n",
            "Shape of testing tensor:  (1392, 50)\n"
          ],
          "name": "stdout"
        }
      ]
    },
    {
      "cell_type": "markdown",
      "metadata": {
        "id": "wtiBAzw2Zr3t",
        "colab_type": "text"
      },
      "source": [
        "## Creating a Dense Model"
      ]
    },
    {
      "cell_type": "markdown",
      "metadata": {
        "id": "hvi3UO1DaRsr",
        "colab_type": "text"
      },
      "source": [
        "First, we create a Dense Model using Keras' Sequential model.\n",
        "\n",
        "The first layer i.e. the Embedding layer maps each word to an N-dimensional vector of real numbers. The embeding_dim is the size of this vector. The embedding layer indicates that the two words with a similar meaning tend to have very close vectors.\n",
        "\n",
        "The Pooling layer helps to reduce the number of parameters in the model hence helps to avoid overfitting."
      ]
    },
    {
      "cell_type": "code",
      "metadata": {
        "id": "7YPVQtQykdcR",
        "colab_type": "code",
        "colab": {}
      },
      "source": [
        "embedding_dim = 18"
      ],
      "execution_count": 15,
      "outputs": []
    },
    {
      "cell_type": "code",
      "metadata": {
        "id": "hcuIDYi6gg09",
        "colab_type": "code",
        "colab": {
          "base_uri": "https://localhost:8080/",
          "height": 357
        },
        "outputId": "f7b3090f-eb93-460c-86d4-ac79fa803d5c"
      },
      "source": [
        "from keras import layers\n",
        "\n",
        "model_dense = tf.keras.Sequential([\n",
        "  layers.Embedding(vocab_size, embedding_dim,input_length=max_len),\n",
        "  layers.Dropout(0.2),\n",
        "  layers.GlobalAveragePooling1D(),\n",
        "  layers.Dense(24, activation='relu'),\n",
        "  layers.Dropout(0.2),\n",
        "  layers.Dense(1,activation='sigmoid')])\n",
        "\n",
        "model_dense.summary()"
      ],
      "execution_count": 16,
      "outputs": [
        {
          "output_type": "stream",
          "text": [
            "Model: \"sequential\"\n",
            "_________________________________________________________________\n",
            "Layer (type)                 Output Shape              Param #   \n",
            "=================================================================\n",
            "embedding (Embedding)        (None, 50, 18)            12600     \n",
            "_________________________________________________________________\n",
            "dropout (Dropout)            (None, 50, 18)            0         \n",
            "_________________________________________________________________\n",
            "global_average_pooling1d (Gl (None, 18)                0         \n",
            "_________________________________________________________________\n",
            "dense (Dense)                (None, 24)                456       \n",
            "_________________________________________________________________\n",
            "dropout_1 (Dropout)          (None, 24)                0         \n",
            "_________________________________________________________________\n",
            "dense_1 (Dense)              (None, 1)                 25        \n",
            "=================================================================\n",
            "Total params: 13,081\n",
            "Trainable params: 13,081\n",
            "Non-trainable params: 0\n",
            "_________________________________________________________________\n"
          ],
          "name": "stdout"
        }
      ]
    },
    {
      "cell_type": "markdown",
      "metadata": {
        "id": "v7x_WYeDazv0",
        "colab_type": "text"
      },
      "source": [
        "The model.summary(),  provides the layer, shape and number of parameters used in each layer.\n",
        "\n",
        "In the embedding layer, the **12600** parameter comes from 500 words (vocab_size), each one with a 16 dimensional word-vector space (**700 X 18 =12600**). \n",
        "\n",
        "The embedding layer is passed through GlobalAveragePooling1D and into dense layers have shape of 18 (due to the average pooling along 18 embedding dimension). We selected 24 neurons for the dense hidden layer. Each of the 24 neurons in the dense layer gets input from each of the 18 values coming from the GlobalAveragePooling1D layer, for a **total of 432 (18 X 24) weights and 24 biases** (one for each 24 neurons). \n",
        "\n",
        "Hence the total parameter is 456. Finally, the output layer has 24 weights (one for each neuron) and its one bias term resulting 25 parameters in total."
      ]
    },
    {
      "cell_type": "code",
      "metadata": {
        "id": "Z0RLvhfGmKWK",
        "colab_type": "code",
        "colab": {}
      },
      "source": [
        "model_dense.compile(loss='binary_crossentropy',optimizer='adam' ,metrics=['accuracy'])\n"
      ],
      "execution_count": 17,
      "outputs": []
    },
    {
      "cell_type": "code",
      "metadata": {
        "id": "DIzJUrcSqG1r",
        "colab_type": "code",
        "colab": {
          "base_uri": "https://localhost:8080/",
          "height": 663
        },
        "outputId": "f74f0123-3afb-4578-f33e-2db786481c14"
      },
      "source": [
        "from keras.callbacks import EarlyStopping\n",
        "num_epochs = 30\n",
        "early_stop = EarlyStopping(monitor='val_loss', patience=3) #stops training if validation performance doesn't improve after 3 epochs\n",
        "\n",
        "history_dense = model_dense.fit(training_padded, train_labels, epochs=num_epochs, validation_data=(test_padded,test_labels),callbacks=[early_stop], verbose=2)"
      ],
      "execution_count": 18,
      "outputs": [
        {
          "output_type": "stream",
          "text": [
            "Epoch 1/30\n",
            "131/131 - 1s - loss: 0.5102 - accuracy: 0.8488 - val_loss: 0.3420 - val_accuracy: 0.8657\n",
            "Epoch 2/30\n",
            "131/131 - 0s - loss: 0.3001 - accuracy: 0.8660 - val_loss: 0.2481 - val_accuracy: 0.8657\n",
            "Epoch 3/30\n",
            "131/131 - 0s - loss: 0.2070 - accuracy: 0.8837 - val_loss: 0.1726 - val_accuracy: 0.9526\n",
            "Epoch 4/30\n",
            "131/131 - 0s - loss: 0.1419 - accuracy: 0.9572 - val_loss: 0.1137 - val_accuracy: 0.9713\n",
            "Epoch 5/30\n",
            "131/131 - 0s - loss: 0.0974 - accuracy: 0.9720 - val_loss: 0.0804 - val_accuracy: 0.9777\n",
            "Epoch 6/30\n",
            "131/131 - 0s - loss: 0.0709 - accuracy: 0.9801 - val_loss: 0.0676 - val_accuracy: 0.9777\n",
            "Epoch 7/30\n",
            "131/131 - 0s - loss: 0.0579 - accuracy: 0.9844 - val_loss: 0.0609 - val_accuracy: 0.9784\n",
            "Epoch 8/30\n",
            "131/131 - 0s - loss: 0.0501 - accuracy: 0.9852 - val_loss: 0.0549 - val_accuracy: 0.9799\n",
            "Epoch 9/30\n",
            "131/131 - 0s - loss: 0.0441 - accuracy: 0.9864 - val_loss: 0.0518 - val_accuracy: 0.9813\n",
            "Epoch 10/30\n",
            "131/131 - 0s - loss: 0.0391 - accuracy: 0.9880 - val_loss: 0.0487 - val_accuracy: 0.9828\n",
            "Epoch 11/30\n",
            "131/131 - 0s - loss: 0.0374 - accuracy: 0.9885 - val_loss: 0.0474 - val_accuracy: 0.9842\n",
            "Epoch 12/30\n",
            "131/131 - 0s - loss: 0.0331 - accuracy: 0.9909 - val_loss: 0.0469 - val_accuracy: 0.9849\n",
            "Epoch 13/30\n",
            "131/131 - 0s - loss: 0.0296 - accuracy: 0.9911 - val_loss: 0.0450 - val_accuracy: 0.9849\n",
            "Epoch 14/30\n",
            "131/131 - 0s - loss: 0.0276 - accuracy: 0.9911 - val_loss: 0.0451 - val_accuracy: 0.9856\n",
            "Epoch 15/30\n",
            "131/131 - 0s - loss: 0.0243 - accuracy: 0.9931 - val_loss: 0.0483 - val_accuracy: 0.9864\n",
            "Epoch 16/30\n",
            "131/131 - 0s - loss: 0.0261 - accuracy: 0.9926 - val_loss: 0.0438 - val_accuracy: 0.9878\n",
            "Epoch 17/30\n",
            "131/131 - 0s - loss: 0.0211 - accuracy: 0.9935 - val_loss: 0.0460 - val_accuracy: 0.9878\n",
            "Epoch 18/30\n",
            "131/131 - 0s - loss: 0.0202 - accuracy: 0.9938 - val_loss: 0.0451 - val_accuracy: 0.9878\n",
            "Epoch 19/30\n",
            "131/131 - 0s - loss: 0.0190 - accuracy: 0.9931 - val_loss: 0.0448 - val_accuracy: 0.9885\n"
          ],
          "name": "stdout"
        }
      ]
    },
    {
      "cell_type": "code",
      "metadata": {
        "id": "No1Nw7QfqkVX",
        "colab_type": "code",
        "colab": {
          "base_uri": "https://localhost:8080/",
          "height": 51
        },
        "outputId": "b3168d6e-3add-40c0-f173-fd1ebe0905b8"
      },
      "source": [
        "model_dense.evaluate(test_padded, test_labels)"
      ],
      "execution_count": 19,
      "outputs": [
        {
          "output_type": "stream",
          "text": [
            "44/44 [==============================] - 0s 793us/step - loss: 0.0448 - accuracy: 0.9885\n"
          ],
          "name": "stdout"
        },
        {
          "output_type": "execute_result",
          "data": {
            "text/plain": [
              "[0.04481029883027077, 0.9885057210922241]"
            ]
          },
          "metadata": {
            "tags": []
          },
          "execution_count": 19
        }
      ]
    },
    {
      "cell_type": "markdown",
      "metadata": {
        "id": "Q07BPo-qhmq1",
        "colab_type": "text"
      },
      "source": [
        "We are getting a loss of 0.04 and an accuracy of **98.8%** in classifying messages as ham or spam using a dense network.\n",
        "\n",
        "Plotting the training and validation loss and accuracy:"
      ]
    },
    {
      "cell_type": "code",
      "metadata": {
        "id": "ZRzN4_-K7NqJ",
        "colab_type": "code",
        "colab": {
          "base_uri": "https://localhost:8080/",
          "height": 573
        },
        "outputId": "f5b10c0f-417e-4538-8980-18ade4f3a5ba"
      },
      "source": [
        "# Create a dataframe\n",
        "metrics = pd.DataFrame(history_dense.history)\n",
        "# Rename column\n",
        "metrics.rename(columns = {'loss': 'Training_Loss', 'accuracy': 'Training_Accuracy',\n",
        "                         'val_loss': 'Validation_Loss', 'val_accuracy': 'Validation_Accuracy'}, inplace = True)\n",
        "def plot_graphs1(var1, var2, string):\n",
        "    metrics[[var1, var2]].plot()\n",
        "    plt.title('Dense Model: Training and Validation ' + string)\n",
        "    plt.xlabel ('Number of epochs')\n",
        "    plt.ylabel(string)\n",
        "    plt.legend([var1, var2])\n",
        "plot_graphs1('Training_Loss', 'Validation_Loss', 'loss')\n",
        "plot_graphs1('Training_Accuracy', 'Validation_Accuracy', 'accuracy')"
      ],
      "execution_count": 20,
      "outputs": [
        {
          "output_type": "display_data",
          "data": {
            "image/png": "[encoded data removed]",
            "text/plain": [
              "<Figure size 432x288 with 1 Axes>"
            ]
          },
          "metadata": {
            "tags": [],
            "needs_background": "light"
          }
        },
        {
          "output_type": "display_data",
          "data": {
            "image/png": "[encoded data removed]",
            "text/plain": [
              "<Figure size 432x288 with 1 Axes>"
            ]
          },
          "metadata": {
            "tags": [],
            "needs_background": "light"
          }
        }
      ]
    },
    {
      "cell_type": "markdown",
      "metadata": {
        "id": "7h79ijtRdhbe",
        "colab_type": "text"
      },
      "source": [
        "## Create an LSTM(Long Short Term Memory) Model"
      ]
    },
    {
      "cell_type": "markdown",
      "metadata": {
        "id": "tXsDuDibdnhR",
        "colab_type": "text"
      },
      "source": [
        "Long Short Term Memory networks – usually just called “LSTMs” – are a special kind of Recurrent Neural Networks, capable of learning long-term dependencies.\n",
        "These are important when the context of a long sentence is derived from a word early on in the sentence. That meaning may be lost in a simple RNN, but LSTM is capable of dealing with such long-term dependencies."
      ]
    },
    {
      "cell_type": "code",
      "metadata": {
        "id": "kVKIEJS37Opm",
        "colab_type": "code",
        "colab": {}
      },
      "source": [
        "model_LSTM = tf.keras.Sequential([\n",
        "  layers.Embedding(vocab_size, embedding_dim,input_length=max_len),\n",
        "  layers.LSTM(20, dropout=0.2,return_sequences=True),\n",
        "  layers.LSTM(20, dropout=0.2,return_sequences=True),\n",
        "  layers.Dense(1,activation='sigmoid')])\n",
        "\n",
        "model_LSTM.summary()\n"
      ],
      "execution_count": null,
      "outputs": []
    },
    {
      "cell_type": "code",
      "metadata": {
        "id": "WLlh6-9JcN_T",
        "colab_type": "code",
        "colab": {}
      },
      "source": [
        "model_LSTM.compile(loss='binary_crossentropy',optimizer='adam' ,metrics=['accuracy'])"
      ],
      "execution_count": null,
      "outputs": []
    },
    {
      "cell_type": "code",
      "metadata": {
        "id": "mbhEydxrcOoI",
        "colab_type": "code",
        "colab": {
          "base_uri": "https://localhost:8080/",
          "height": 289
        },
        "outputId": "b4c6632a-ee06-4c58-a09f-65a0a2d0fc17"
      },
      "source": [
        "num_epochs = 30\n",
        "early_stop = EarlyStopping(monitor='val_loss', patience=2)\n",
        "\n",
        "history_LSTM = model_LSTM.fit(training_padded, train_labels, epochs=num_epochs, validation_data=(test_padded,test_labels), callbacks=[early_stop], verbose=2)"
      ],
      "execution_count": null,
      "outputs": [
        {
          "output_type": "stream",
          "text": [
            "Epoch 1/30\n",
            "131/131 - 5s - loss: 0.2996 - accuracy: 0.9022 - val_loss: 0.1510 - val_accuracy: 0.9548\n",
            "Epoch 2/30\n",
            "131/131 - 5s - loss: 0.1232 - accuracy: 0.9663 - val_loss: 0.1164 - val_accuracy: 0.9680\n",
            "Epoch 3/30\n",
            "131/131 - 5s - loss: 0.0936 - accuracy: 0.9743 - val_loss: 0.0987 - val_accuracy: 0.9724\n",
            "Epoch 4/30\n",
            "131/131 - 5s - loss: 0.0769 - accuracy: 0.9784 - val_loss: 0.0929 - val_accuracy: 0.9739\n",
            "Epoch 5/30\n",
            "131/131 - 5s - loss: 0.0701 - accuracy: 0.9795 - val_loss: 0.0869 - val_accuracy: 0.9751\n",
            "Epoch 6/30\n",
            "131/131 - 5s - loss: 0.0636 - accuracy: 0.9816 - val_loss: 0.0815 - val_accuracy: 0.9771\n",
            "Epoch 7/30\n",
            "131/131 - 5s - loss: 0.0620 - accuracy: 0.9813 - val_loss: 0.0826 - val_accuracy: 0.9758\n",
            "Epoch 8/30\n",
            "131/131 - 5s - loss: 0.0550 - accuracy: 0.9832 - val_loss: 0.0869 - val_accuracy: 0.9746\n"
          ],
          "name": "stdout"
        }
      ]
    },
    {
      "cell_type": "code",
      "metadata": {
        "id": "O6IHzB3lg1Bi",
        "colab_type": "code",
        "colab": {
          "base_uri": "https://localhost:8080/",
          "height": 51
        },
        "outputId": "d9adb1b1-6f6f-4fa4-acef-d08061378b0c"
      },
      "source": [
        "model_LSTM.evaluate(test_padded, test_labels)"
      ],
      "execution_count": null,
      "outputs": [
        {
          "output_type": "stream",
          "text": [
            "44/44 [==============================] - 0s 8ms/step - loss: 0.0869 - accuracy: 0.9746\n"
          ],
          "name": "stdout"
        },
        {
          "output_type": "execute_result",
          "data": {
            "text/plain": [
              "[0.08689868450164795, 0.9745544195175171]"
            ]
          },
          "metadata": {
            "tags": []
          },
          "execution_count": 34
        }
      ]
    },
    {
      "cell_type": "markdown",
      "metadata": {
        "id": "fxQl_uR7iFeL",
        "colab_type": "text"
      },
      "source": [
        "We are getting a loss of 0.08 and accuracy of 97.4% using an LSTM model. This is slightly lesser than the dense network.\n",
        "\n",
        "Plotting the training and validation loss and accuracy:"
      ]
    },
    {
      "cell_type": "code",
      "metadata": {
        "id": "vvXVfcTK83I4",
        "colab_type": "code",
        "colab": {
          "base_uri": "https://localhost:8080/",
          "height": 573
        },
        "outputId": "5a510555-4901-4220-8b7e-63ec635e3753"
      },
      "source": [
        "# Create a dataframe\n",
        "metrics_LSTM = pd.DataFrame(history_LSTM.history)\n",
        "# Rename column\n",
        "metrics_LSTM.rename(columns = {'loss': 'Training_Loss', 'accuracy': 'Training_Accuracy',\n",
        "                         'val_loss': 'Validation_Loss', 'val_accuracy': 'Validation_Accuracy'}, inplace = True)\n",
        "def plot_graphs2(var1, var2, string):\n",
        "    metrics_LSTM[[var1, var2]].plot()\n",
        "    plt.title('LSTM Model: Training and Validation ' + string)\n",
        "    plt.xlabel ('Number of epochs')\n",
        "    plt.ylabel(string)\n",
        "    plt.legend([var1, var2])\n",
        "plot_graphs2('Training_Loss', 'Validation_Loss', 'loss')\n",
        "plot_graphs2('Training_Accuracy', 'Validation_Accuracy', 'accuracy')"
      ],
      "execution_count": null,
      "outputs": [
        {
          "output_type": "display_data",
          "data": {
            "image/png": "[encoded data removed]",
            "text/plain": [
              "<Figure size 432x288 with 1 Axes>"
            ]
          },
          "metadata": {
            "tags": [],
            "needs_background": "light"
          }
        },
        {
          "output_type": "display_data",
          "data": {
            "image/png": "[encoded data removed]",
            "text/plain": [
              "<Figure size 432x288 with 1 Axes>"
            ]
          },
          "metadata": {
            "tags": [],
            "needs_background": "light"
          }
        }
      ]
    },
    {
      "cell_type": "markdown",
      "metadata": {
        "id": "HrZWr7TZhjY_",
        "colab_type": "text"
      },
      "source": [
        "## Create a function to predict message labels:"
      ]
    },
    {
      "cell_type": "markdown",
      "metadata": {
        "id": "dZr1sEu8ins3",
        "colab_type": "text"
      },
      "source": [
        "As the dense network performed better, we shall use the dense model to predict the labels of new messages.\n",
        "\n",
        "We create a function that takes a text message as an argument and outputs the probability of it being spam and the label."
      ]
    },
    {
      "cell_type": "code",
      "metadata": {
        "id": "J9tD9yACG6M9",
        "colab_type": "code",
        "colab": {
          "base_uri": "https://localhost:8080/",
          "height": 34
        },
        "outputId": "e40f8306-e3da-4b93-9e1b-0553f365f52b"
      },
      "source": [
        "# function to predict messages based on model\n",
        "# returns list containing prediction and label, ex. [0.008318834938108921, 'ham']\n",
        "from keras.preprocessing.sequence import pad_sequences\n",
        "\n",
        "def predict_message(pred_text):\n",
        "    prediction = []\n",
        "    new_seq = tokenizer.texts_to_sequences([pred_text])\n",
        "    padded = pad_sequences(new_seq, maxlen =max_len,\n",
        "                      padding = padding_type,\n",
        "                      truncating=trunc_type)\n",
        "    prediction_prob = model_dense.predict(padded)[0][0]\n",
        "    prediction.append(prediction_prob)\n",
        "    if prediction_prob>0.5:\n",
        "      prediction.append('spam')\n",
        "    \n",
        "    else:\n",
        "      prediction.append('ham')\n",
        "\n",
        "    return (prediction)\n",
        "\n",
        "\n",
        "pred_text = \"how are you doing today?\"\n",
        "\n",
        "prediction = predict_message(pred_text)\n",
        "print(prediction)"
      ],
      "execution_count": 22,
      "outputs": [
        {
          "output_type": "stream",
          "text": [
            "[0.0008110106, 'ham']\n"
          ],
          "name": "stdout"
        }
      ]
    },
    {
      "cell_type": "code",
      "metadata": {
        "id": "Dxotov85SjsC",
        "colab_type": "code",
        "colab": {
          "base_uri": "https://localhost:8080/",
          "height": 153
        },
        "outputId": "236c53e0-2235-4a5f-f494-9cf997963b65"
      },
      "source": [
        "# Run this cell to test function and model.\n",
        "def test_predictions():\n",
        "  test_messages = [\"how are you doing today\",\n",
        "                   \"sale today! to stop texts call 98912460324\",\n",
        "                   \"i dont want to go. can we try it a different day? available sat\",\n",
        "                   \"our new mobile video service is live. just install on your phone to start watching.\",\n",
        "                   \"you have won £1000 cash! call to claim your prize.\",\n",
        "                   \"i'll bring it tomorrow. don't forget the milk.\",\n",
        "                   \"wow, is your arm alright. that happened to me one time too\"\n",
        "                  ]\n",
        "\n",
        "  test_answers = [\"ham\", \"spam\", \"ham\", \"spam\", \"spam\", \"ham\", \"ham\"]\n",
        "  passed = True\n",
        "\n",
        "  for msg, ans in zip(test_messages, test_answers):\n",
        "    prediction = predict_message(msg)\n",
        "    print(prediction)\n",
        "    if prediction[1] != ans:\n",
        "      passed = False\n",
        "\n",
        "  if passed:\n",
        "    print(\"Test passed. Function predicted all message labels correctly\")\n",
        "  else:\n",
        "    print(\"Test fail: Function failed to predict one or more message labels correctly\")\n",
        "  \n",
        "\n",
        "test_predictions()\n"
      ],
      "execution_count": 24,
      "outputs": [
        {
          "output_type": "stream",
          "text": [
            "[0.0008110106, 'ham']\n",
            "[0.53934026, 'spam']\n",
            "[0.00014469028, 'ham']\n",
            "[0.9890735, 'spam']\n",
            "[0.9966333, 'spam']\n",
            "[0.00013765693, 'ham']\n",
            "[0.0006105304, 'ham']\n",
            "Test passed. Function predicted all message labels correctly\n"
          ],
          "name": "stdout"
        }
      ]
    },
    {
      "cell_type": "code",
      "metadata": {
        "id": "Egz3f1Uwjp6Z",
        "colab_type": "code",
        "colab": {}
      },
      "source": [
        ""
      ],
      "execution_count": null,
      "outputs": []
    }
  ]
}